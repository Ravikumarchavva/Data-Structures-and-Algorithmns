{
 "cells": [
  {
   "cell_type": "code",
   "execution_count": 3,
   "id": "ef874f0c",
   "metadata": {},
   "outputs": [
    {
     "data": {
      "text/plain": [
       "97"
      ]
     },
     "execution_count": 3,
     "metadata": {},
     "output_type": "execute_result"
    }
   ],
   "source": [
    "# 'a' ascii value\n",
    "ord('a')"
   ]
  },
  {
   "cell_type": "code",
   "execution_count": null,
   "id": "05445ec6",
   "metadata": {},
   "outputs": [],
   "source": [
    "sorted([3, 1, 2])"
   ]
  },
  {
   "cell_type": "code",
   "execution_count": null,
   "id": "f6e0f63d",
   "metadata": {},
   "outputs": [
    {
     "name": "stdout",
     "output_type": "stream",
     "text": [
      "True\n"
     ]
    },
    {
     "ename": "",
     "evalue": "",
     "output_type": "error",
     "traceback": [
      "\u001b[1;31mThe Kernel crashed while executing code in the current cell or a previous cell. \n",
      "\u001b[1;31mPlease review the code in the cell(s) to identify a possible cause of the failure. \n",
      "\u001b[1;31mClick <a href='https://aka.ms/vscodeJupyterKernelCrash'>here</a> for more info. \n",
      "\u001b[1;31mView Jupyter <a href='command:jupyter.viewOutput'>log</a> for further details."
     ]
    }
   ],
   "source": [
    "def isSubsequence(s: str, t: str) -> bool:\n",
    "    p1 = 0\n",
    "    p2 = 0\n",
    "    l1 = len(s)\n",
    "    l2 = len(t)\n",
    "    while p1 < l1 and p2 < l2:\n",
    "        if s[p1] == t[p2]:\n",
    "            p1 += 1\n",
    "            p2 += 1\n",
    "        else:\n",
    "            p2+=1\n",
    "    \n",
    "    if p1 == l1:\n",
    "        return True\n",
    "    return False\n",
    "\n",
    "print(isSubsequence(\"abc\", \"ahbgdc\"))"
   ]
  },
  {
   "cell_type": "code",
   "execution_count": null,
   "id": "9e642961",
   "metadata": {},
   "outputs": [],
   "source": [
    "# a h b g d c\n",
    "# 0 1 2 3 4 5\n",
    "\n",
    "# a b c\n",
    "# 0 1 2\n",
    "\n",
    "# a x c\n",
    "# 0 1 2"
   ]
  },
  {
   "cell_type": "code",
   "execution_count": null,
   "id": "691fed02",
   "metadata": {},
   "outputs": [
    {
     "name": "stdout",
     "output_type": "stream",
     "text": [
      "[1, 2, 3]\n"
     ]
    }
   ],
   "source": [
    "l = [1,2,3,1]\n",
    "for i in range(len(l)-1, -1, -1):\n",
    "    if l[i] == 1:\n",
    "        l.pop(i)\n",
    "print(l)"
   ]
  },
  {
   "cell_type": "code",
   "execution_count": 25,
   "id": "ee622659",
   "metadata": {},
   "outputs": [
    {
     "data": {
      "text/plain": [
       "False"
      ]
     },
     "execution_count": 25,
     "metadata": {},
     "output_type": "execute_result"
    }
   ],
   "source": [
    "from typing import List, Dict\n",
    "class Solution:\n",
    "    def canPlaceFlowers(self, flowerbed: List[int], n: int) -> bool:\n",
    "\n",
    "        count = 0\n",
    "\n",
    "        for i in range(len(flowerbed)):\n",
    "            if flowerbed[i] == 0:\n",
    "                if (i == 0 or flowerbed[i-1] == 0) and (i == len(flowerbed)-1 or flowerbed[i+1] == 0):\n",
    "                    flowerbed[i] = 1\n",
    "                    count += 1\n",
    "                    if count >= n:\n",
    "                        return True\n",
    "\n",
    "        return False\n",
    "\n",
    "Solution().canPlaceFlowers([1,0,0,0,1], 2)"
   ]
  },
  {
   "cell_type": "code",
   "execution_count": 1,
   "id": "0244c204",
   "metadata": {},
   "outputs": [],
   "source": [
    "l = []\n",
    "for i, j in enumerate(l):\n",
    "    print(i, j)"
   ]
  },
  {
   "cell_type": "code",
   "execution_count": 1,
   "id": "93a62cf4",
   "metadata": {},
   "outputs": [
    {
     "name": "stdout",
     "output_type": "stream",
     "text": [
      "[1, 1, 2, 3, 6, 8, 10]\n"
     ]
    }
   ],
   "source": [
    "def quick_sort(arr):\n",
    "    if len(arr) <= 1:\n",
    "        return arr\n",
    "    pivot = arr[len(arr) // 2]\n",
    "    left = [x for x in arr if x < pivot]\n",
    "    middle = [x for x in arr if x == pivot]\n",
    "    right = [x for x in arr if x > pivot]\n",
    "    return quick_sort(left) + middle + quick_sort(right)\n",
    "\n",
    "print(quick_sort([3,6,8,10,1,2,1]))"
   ]
  },
  {
   "cell_type": "code",
   "execution_count": null,
   "id": "8234d00b",
   "metadata": {},
   "outputs": [],
   "source": []
  }
 ],
 "metadata": {
  "kernelspec": {
   "display_name": "autogen-examples",
   "language": "python",
   "name": "python3"
  },
  "language_info": {
   "codemirror_mode": {
    "name": "ipython",
    "version": 3
   },
   "file_extension": ".py",
   "mimetype": "text/x-python",
   "name": "python",
   "nbconvert_exporter": "python",
   "pygments_lexer": "ipython3",
   "version": "3.11.12"
  }
 },
 "nbformat": 4,
 "nbformat_minor": 5
}
