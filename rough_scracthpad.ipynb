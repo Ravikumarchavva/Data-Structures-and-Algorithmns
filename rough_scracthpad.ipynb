{
 "cells": [
  {
   "cell_type": "code",
   "execution_count": 3,
   "id": "ef874f0c",
   "metadata": {},
   "outputs": [
    {
     "data": {
      "text/plain": [
       "97"
      ]
     },
     "execution_count": 3,
     "metadata": {},
     "output_type": "execute_result"
    }
   ],
   "source": [
    "# 'a' ascii value\n",
    "ord('a')"
   ]
  },
  {
   "cell_type": "code",
   "execution_count": null,
   "id": "05445ec6",
   "metadata": {},
   "outputs": [],
   "source": [
    "sorted([3, 1, 2])"
   ]
  },
  {
   "cell_type": "code",
   "execution_count": 10,
   "id": "f6e0f63d",
   "metadata": {},
   "outputs": [
    {
     "name": "stdout",
     "output_type": "stream",
     "text": [
      "True\n"
     ]
    }
   ],
   "source": [
    "def isSubsequence(s: str, t: str) -> bool:\n",
    "    p1 = 0\n",
    "    p2 = 0\n",
    "    l1 = len(s)\n",
    "    l2 = len(t)\n",
    "    while p1 < l1 and p2 < l2:\n",
    "        if s[p1] == t[p2]:\n",
    "            p1 += 1\n",
    "            p2 += 1\n",
    "        else:\n",
    "            p2+=1\n",
    "    \n",
    "    if p1 == l1:\n",
    "        return True\n",
    "    return False\n",
    "\n",
    "print(isSubsequence(\"abc\", \"ahbgdc\"))"
   ]
  },
  {
   "cell_type": "code",
   "execution_count": null,
   "id": "9e642961",
   "metadata": {},
   "outputs": [],
   "source": [
    "# a h b g d c\n",
    "# 0 1 2 3 4 5\n",
    "\n",
    "# a b c\n",
    "# 0 1 2\n",
    "\n",
    "# a x c\n",
    "# 0 1 2"
   ]
  }
 ],
 "metadata": {
  "kernelspec": {
   "display_name": "autogen-examples",
   "language": "python",
   "name": "python3"
  },
  "language_info": {
   "codemirror_mode": {
    "name": "ipython",
    "version": 3
   },
   "file_extension": ".py",
   "mimetype": "text/x-python",
   "name": "python",
   "nbconvert_exporter": "python",
   "pygments_lexer": "ipython3",
   "version": "3.11.12"
  }
 },
 "nbformat": 4,
 "nbformat_minor": 5
}
